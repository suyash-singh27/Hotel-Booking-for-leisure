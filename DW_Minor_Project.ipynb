{
 "cells": [
  {
   "cell_type": "code",
   "execution_count": 24,
   "metadata": {},
   "outputs": [],
   "source": [
    "import mysql.connector"
   ]
  },
  {
   "cell_type": "code",
   "execution_count": 25,
   "metadata": {},
   "outputs": [],
   "source": [
    "def connect_to_sql(db):\n",
    "    if len(db)>0:\n",
    "        mydb = mysql.connector.connect(\n",
    "          host=\"localhost\",\n",
    "          user=\"User\",\n",
    "          passwd=\"Passwd\",\n",
    "        database=db\n",
    "        )\n",
    "    else:\n",
    "        mydb = mysql.connector.connect(\n",
    "          host=\"localhost\",\n",
    "          user=\"User\",\n",
    "          passwd=\"Passwd\"\n",
    "         )\n",
    "    return mydb"
   ]
  },
  {
   "cell_type": "code",
   "execution_count": 31,
   "metadata": {},
   "outputs": [],
   "source": [
    "def create_tables(mydb):\n",
    "    mycursor=mydb.cursor()\n",
    "    mycursor.execute(\"DROP TABLE IF EXISTS HotelData;\")\n",
    "    mycursor.execute(\"DROP TABLE IF EXISTS HotelDataValue;\")\n",
    "    mycursor.execute(\"DROP TABLE IF EXISTS CustomerData;\")\n",
    "    mycursor.execute(\"DROP TABLE IF EXISTS Review;\")\n",
    "    mycursor.execute(\"DROP TABLE IF EXISTS Validation;\")\n",
    "    mycursor.execute(\"CREATE TABLE HotelData (HotelID Int NOT NULL, state Char(20), city Char(20), area_code Char(20), geyser Char(20), Air_conditioning Char(20), Television Char(20), wifi Char(20), view Char(20), free_breakfast Char(20), early_check_ins Char(20), distance_to_the_railway_station Int, distance_to_the_airport Int,number_of_eateries_closer_than_3_km Int, distance_to_the_downtown_of_the_city Int, number_of_monuments Int);\")\n",
    "    mycursor.execute(\"CREATE TABLE HotelDataValue (HotelID Int NOT NULL, base_price Int, discount_offered Int, cgst Int, sgst Int, service_charges Int, loyalty_points Int);\")\n",
    "    mycursor.execute(\"CREATE TABLE CustomerData (CustomerID Int NOT NULL, state_req Char(20), city_req Char(20), area_code_req Char(20), geyser_req Char(20), Air_conditioning_req Char(20), Television_req Char(20), wifi_req Char(20), view_req Char(20), free_breakfast_req Char(20), early_check_ins_req Char(20), distance_to_the_railway_station_req Int, distance_to_the_airport_req Int,number_of_eateries_closer_than_3_km_req Int, distance_to_the_downtown_of_the_city_req Int, number_of_monuments_req Int,base_price_req Int );\")\n",
    "    mycursor.execute(\"CREATE TABLE Review (CustomerID Int NOT NULL,HotelID Int NOT NULL, staff_service Int, amenities_provided Int, hygiene Int, food_quality Int);\")\n",
    "    mycursor.execute(\"CREATE TABLE Validation (CustomerID Int, Password Char(20));\")"
   ]
  },
  {
   "cell_type": "code",
   "execution_count": 34,
   "metadata": {},
   "outputs": [],
   "source": [
    "class project:\n",
    "    def __init__(self,database):\n",
    "        self.mydb = connect_to_sql(database)\n",
    "        create_tables(self.mydb)"
   ]
  },
  {
   "cell_type": "code",
   "execution_count": 36,
   "metadata": {},
   "outputs": [],
   "source": [
    "pr = project(\"DW_MINOR_PROJECT\")"
   ]
  },
  {
   "cell_type": "code",
   "execution_count": 37,
   "metadata": {},
   "outputs": [],
   "source": [
    "mycurse=pr.mydb.cursor()"
   ]
  },
  {
   "cell_type": "code",
   "execution_count": 38,
   "metadata": {},
   "outputs": [
    {
     "name": "stdout",
     "output_type": "stream",
     "text": [
      "('CustomerData',)\n",
      "('HotelData',)\n",
      "('HotelDataValue',)\n",
      "('Review',)\n",
      "('Validation',)\n"
     ]
    }
   ],
   "source": [
    "mycurse.execute(\"Show tables\")\n",
    "for i in mycurse:\n",
    "    print(i)"
   ]
  }
 ],
 "metadata": {
  "kernelspec": {
   "display_name": "Python 3",
   "language": "python",
   "name": "python3"
  },
  "language_info": {
   "codemirror_mode": {
    "name": "ipython",
    "version": 3
   },
   "file_extension": ".py",
   "mimetype": "text/x-python",
   "name": "python",
   "nbconvert_exporter": "python",
   "pygments_lexer": "ipython3",
   "version": "3.7.4"
  }
 },
 "nbformat": 4,
 "nbformat_minor": 2
}

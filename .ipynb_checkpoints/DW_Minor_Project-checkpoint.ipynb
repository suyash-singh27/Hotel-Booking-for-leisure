{
 "cells": [
  {
   "cell_type": "code",
   "execution_count": 2,
   "metadata": {},
   "outputs": [],
   "source": [
    "import mysql.connector"
   ]
  },
  {
   "cell_type": "code",
   "execution_count": 8,
   "metadata": {},
   "outputs": [],
   "source": [
    "def connect_to_sql(db):\n",
    "    if len(db)>0:\n",
    "        mydb = mysql.connector.connect(\n",
    "          host=\"localhost\",\n",
    "          user=\"suyash-singh\",\n",
    "          passwd=\"Helloworld27!\",\n",
    "        database=db\n",
    "        )\n",
    "    else:\n",
    "        mydb = mysql.connector.connect(\n",
    "          host=\"localhost\",\n",
    "          user=\"suyash-singh\",\n",
    "          passwd=\"Helloworld27!\"\n",
    "         )\n",
    "    return mydb"
   ]
  },
  {
   "cell_type": "code",
   "execution_count": 4,
   "metadata": {},
   "outputs": [],
   "source": [
    "def create_database():\n",
    "    mycursor.execute(\"CREATE DATABASE DW_MINOR_PROJECT\")"
   ]
  },
  {
   "cell_type": "code",
   "execution_count": 18,
   "metadata": {},
   "outputs": [],
   "source": [
    "mydb = connect_to_sql(\"DW_MINOR_PROJECT\")"
   ]
  },
  {
   "cell_type": "code",
   "execution_count": 20,
   "metadata": {},
   "outputs": [],
   "source": [
    "def create_tables(mydb):\n",
    "    mycursor=mydb.cursor()\n",
    "    mycursor.execute(\"CREATE TABLE HotelData (HotelID Int NOT NULL, state Char(20), city Char(20), area_code Char(20), geyser Char(20), Air_conditioning Char(20), Television Char(20), wifi Char(20), view Char(20), free_breakfast Char(20), early_check_ins Char(20), distance_to_the_railway_station Int, distance_to_the_airport Int,number_of_eateries_closer_than_3_km Int, distance_to_the_downtown_of_the_city Int, number_of_monuments Int);\")\n",
    "    mycursor.execute(\"CREATE TABLE HotelDataValue (HotelID Int NOT NULL, base_price Int, discount_offered Int, cgst Int, sgst Int, service_charges Int, loyalty_points Int);\")\n",
    "    mycursor.execute(\"CREATE TABLE CustomerData (CustomerID Int NOT NULL, state_req Char(20), city_req Char(20), area_code_req Char(20), geyser_req Char(20), Air_conditioning_req Char(20), Television_req Char(20), wifi_req Char(20), view_req Char(20), free_breakfast_req Char(20), early_check_ins_req Char(20), distance_to_the_railway_station_req Int, distance_to_the_airport_req Int,number_of_eateries_closer_than_3_km_req Int, distance_to_the_downtown_of_the_city_req Int, number_of_monuments_req Int,base_price_req Int );\")\n",
    "    for i in mycursor:\n",
    "        print(i)"
   ]
  },
  {
   "cell_type": "code",
   "execution_count": 21,
   "metadata": {},
   "outputs": [],
   "source": [
    "create_tables(mydb)"
   ]
  }
 ],
 "metadata": {
  "kernelspec": {
   "display_name": "Python 3",
   "language": "python",
   "name": "python3"
  },
  "language_info": {
   "codemirror_mode": {
    "name": "ipython",
    "version": 3
   },
   "file_extension": ".py",
   "mimetype": "text/x-python",
   "name": "python",
   "nbconvert_exporter": "python",
   "pygments_lexer": "ipython3",
   "version": "3.7.4"
  }
 },
 "nbformat": 4,
 "nbformat_minor": 2
}
